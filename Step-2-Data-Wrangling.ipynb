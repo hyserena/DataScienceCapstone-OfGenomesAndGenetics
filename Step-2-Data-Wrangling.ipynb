{
 "cells": [
  {
   "cell_type": "markdown",
   "id": "2324e8cc",
   "metadata": {},
   "source": [
    "# 2 Data Wrangling - \"Of Genomes And Genetics\""
   ]
  },
  {
   "cell_type": "markdown",
   "id": "7ccf1dce",
   "metadata": {},
   "source": [
    "#### Objective: Prepare the \"Of Genomes and Genetics\" dataset for analysis, which includes loading the data, handling missing values, and understanding its structure."
   ]
  },
  {
   "cell_type": "markdown",
   "id": "b7a4b2e7",
   "metadata": {},
   "source": [
    "## Import"
   ]
  },
  {
   "cell_type": "code",
   "execution_count": 1,
   "id": "81b70362",
   "metadata": {
    "scrolled": false
   },
   "outputs": [],
   "source": [
    "import pandas as pd\n",
    "import numpy as np"
   ]
  },
  {
   "cell_type": "markdown",
   "id": "28f7d2a1",
   "metadata": {},
   "source": [
    "## Load The Data"
   ]
  },
  {
   "cell_type": "code",
   "execution_count": 2,
   "id": "ba9bfee9",
   "metadata": {},
   "outputs": [],
   "source": [
    "train = pd.read_csv('raw_data/train.csv')\n",
    "test = pd.read_csv('raw_data/test.csv')"
   ]
  },
  {
   "cell_type": "markdown",
   "id": "7a8301c6",
   "metadata": {},
   "source": [
    "## Data Wrangling"
   ]
  },
  {
   "cell_type": "code",
   "execution_count": 3,
   "id": "49b2e4be",
   "metadata": {
    "scrolled": true
   },
   "outputs": [
    {
     "name": "stdout",
     "output_type": "stream",
     "text": [
      "Train columns: ['Patient Id', 'Patient Age', \"Genes in mother's side\", 'Inherited from father', 'Maternal gene', 'Paternal gene', 'Blood cell count (mcL)', 'Patient First Name', 'Family Name', \"Father's name\", \"Mother's age\", \"Father's age\", 'Institute Name', 'Location of Institute', 'Status', 'Respiratory Rate (breaths/min)', 'Heart Rate (rates/min', 'Test 1', 'Test 2', 'Test 3', 'Test 4', 'Test 5', 'Parental consent', 'Follow-up', 'Gender', 'Birth asphyxia', 'Autopsy shows birth defect (if applicable)', 'Place of birth', 'Folic acid details (peri-conceptional)', 'H/O serious maternal illness', 'H/O radiation exposure (x-ray)', 'H/O substance abuse', 'Assisted conception IVF/ART', 'History of anomalies in previous pregnancies', 'No. of previous abortion', 'Birth defects', 'White Blood cell count (thousand per microliter)', 'Blood test result', 'Symptom 1', 'Symptom 2', 'Symptom 3', 'Symptom 4', 'Symptom 5', 'Genetic Disorder', 'Disorder Subclass']\n",
      "Test columns: ['Patient Id', 'Patient Age', \"Genes in mother's side\", 'Inherited from father', 'Maternal gene', 'Paternal gene', 'Blood cell count (mcL)', 'Patient First Name', 'Family Name', \"Father's name\", \"Mother's age\", \"Father's age\", 'Institute Name', 'Location of Institute', 'Status', 'Respiratory Rate (breaths/min)', 'Heart Rate (rates/min', 'Test 1', 'Test 2', 'Test 3', 'Test 4', 'Test 5', 'Parental consent', 'Follow-up', 'Gender', 'Birth asphyxia', 'Autopsy shows birth defect (if applicable)', 'Place of birth', 'Folic acid details (peri-conceptional)', 'H/O serious maternal illness', 'H/O radiation exposure (x-ray)', 'H/O substance abuse', 'Assisted conception IVF/ART', 'History of anomalies in previous pregnancies', 'No. of previous abortion', 'Birth defects', 'White Blood cell count (thousand per microliter)', 'Blood test result', 'Symptom 1', 'Symptom 2', 'Symptom 3', 'Symptom 4', 'Symptom 5']\n"
     ]
    }
   ],
   "source": [
    "print(\"Train columns:\", train.columns.tolist())\n",
    "print(\"Test columns:\", test.columns.tolist())"
   ]
  },
  {
   "cell_type": "code",
   "execution_count": 4,
   "id": "62ca63cf",
   "metadata": {
    "scrolled": false
   },
   "outputs": [
    {
     "name": "stdout",
     "output_type": "stream",
     "text": [
      "<class 'pandas.core.frame.DataFrame'>\n",
      "RangeIndex: 22083 entries, 0 to 22082\n",
      "Data columns (total 45 columns):\n",
      " #   Column                                            Non-Null Count  Dtype  \n",
      "---  ------                                            --------------  -----  \n",
      " 0   Patient Id                                        22083 non-null  object \n",
      " 1   Patient Age                                       20656 non-null  float64\n",
      " 2   Genes in mother's side                            22083 non-null  object \n",
      " 3   Inherited from father                             21777 non-null  object \n",
      " 4   Maternal gene                                     19273 non-null  object \n",
      " 5   Paternal gene                                     22083 non-null  object \n",
      " 6   Blood cell count (mcL)                            22083 non-null  float64\n",
      " 7   Patient First Name                                22083 non-null  object \n",
      " 8   Family Name                                       12392 non-null  object \n",
      " 9   Father's name                                     22083 non-null  object \n",
      " 10  Mother's age                                      16047 non-null  float64\n",
      " 11  Father's age                                      16097 non-null  float64\n",
      " 12  Institute Name                                    16977 non-null  object \n",
      " 13  Location of Institute                             22083 non-null  object \n",
      " 14  Status                                            22083 non-null  object \n",
      " 15  Respiratory Rate (breaths/min)                    19934 non-null  object \n",
      " 16  Heart Rate (rates/min                             19970 non-null  object \n",
      " 17  Test 1                                            19956 non-null  float64\n",
      " 18  Test 2                                            19931 non-null  float64\n",
      " 19  Test 3                                            19936 non-null  float64\n",
      " 20  Test 4                                            19943 non-null  float64\n",
      " 21  Test 5                                            19913 non-null  float64\n",
      " 22  Parental consent                                  19958 non-null  object \n",
      " 23  Follow-up                                         19917 non-null  object \n",
      " 24  Gender                                            19910 non-null  object \n",
      " 25  Birth asphyxia                                    19944 non-null  object \n",
      " 26  Autopsy shows birth defect (if applicable)        21057 non-null  object \n",
      " 27  Place of birth                                    19959 non-null  object \n",
      " 28  Folic acid details (peri-conceptional)            19966 non-null  object \n",
      " 29  H/O serious maternal illness                      19931 non-null  object \n",
      " 30  H/O radiation exposure (x-ray)                    19930 non-null  object \n",
      " 31  H/O substance abuse                               19888 non-null  object \n",
      " 32  Assisted conception IVF/ART                       19961 non-null  object \n",
      " 33  History of anomalies in previous pregnancies      19911 non-null  object \n",
      " 34  No. of previous abortion                          19921 non-null  float64\n",
      " 35  Birth defects                                     19929 non-null  object \n",
      " 36  White Blood cell count (thousand per microliter)  19935 non-null  float64\n",
      " 37  Blood test result                                 19938 non-null  object \n",
      " 38  Symptom 1                                         19928 non-null  float64\n",
      " 39  Symptom 2                                         19861 non-null  float64\n",
      " 40  Symptom 3                                         19982 non-null  float64\n",
      " 41  Symptom 4                                         19970 non-null  float64\n",
      " 42  Symptom 5                                         19930 non-null  float64\n",
      " 43  Genetic Disorder                                  19937 non-null  object \n",
      " 44  Disorder Subclass                                 19915 non-null  object \n",
      "dtypes: float64(16), object(29)\n",
      "memory usage: 7.6+ MB\n",
      "None\n",
      "<class 'pandas.core.frame.DataFrame'>\n",
      "RangeIndex: 9465 entries, 0 to 9464\n",
      "Data columns (total 43 columns):\n",
      " #   Column                                            Non-Null Count  Dtype  \n",
      "---  ------                                            --------------  -----  \n",
      " 0   Patient Id                                        9465 non-null   object \n",
      " 1   Patient Age                                       9465 non-null   int64  \n",
      " 2   Genes in mother's side                            9465 non-null   object \n",
      " 3   Inherited from father                             8914 non-null   object \n",
      " 4   Maternal gene                                     5742 non-null   object \n",
      " 5   Paternal gene                                     9465 non-null   object \n",
      " 6   Blood cell count (mcL)                            9465 non-null   float64\n",
      " 7   Patient First Name                                9465 non-null   object \n",
      " 8   Family Name                                       148 non-null    object \n",
      " 9   Father's name                                     9465 non-null   object \n",
      " 10  Mother's age                                      9465 non-null   int64  \n",
      " 11  Father's age                                      9465 non-null   int64  \n",
      " 12  Institute Name                                    7429 non-null   object \n",
      " 13  Location of Institute                             9465 non-null   object \n",
      " 14  Status                                            9465 non-null   object \n",
      " 15  Respiratory Rate (breaths/min)                    6579 non-null   object \n",
      " 16  Heart Rate (rates/min                             6565 non-null   object \n",
      " 17  Test 1                                            9465 non-null   int64  \n",
      " 18  Test 2                                            9465 non-null   int64  \n",
      " 19  Test 3                                            9465 non-null   int64  \n",
      " 20  Test 4                                            9465 non-null   int64  \n",
      " 21  Test 5                                            9465 non-null   int64  \n",
      " 22  Parental consent                                  9465 non-null   object \n",
      " 23  Follow-up                                         9465 non-null   object \n",
      " 24  Gender                                            9465 non-null   object \n",
      " 25  Birth asphyxia                                    9465 non-null   object \n",
      " 26  Autopsy shows birth defect (if applicable)        9465 non-null   object \n",
      " 27  Place of birth                                    9465 non-null   object \n",
      " 28  Folic acid details (peri-conceptional)            9465 non-null   object \n",
      " 29  H/O serious maternal illness                      9465 non-null   object \n",
      " 30  H/O radiation exposure (x-ray)                    9465 non-null   object \n",
      " 31  H/O substance abuse                               9465 non-null   object \n",
      " 32  Assisted conception IVF/ART                       9465 non-null   object \n",
      " 33  History of anomalies in previous pregnancies      9465 non-null   object \n",
      " 34  No. of previous abortion                          9465 non-null   int64  \n",
      " 35  Birth defects                                     9465 non-null   object \n",
      " 36  White Blood cell count (thousand per microliter)  9465 non-null   float64\n",
      " 37  Blood test result                                 9465 non-null   object \n",
      " 38  Symptom 1                                         9465 non-null   bool   \n",
      " 39  Symptom 2                                         9465 non-null   bool   \n",
      " 40  Symptom 3                                         9465 non-null   bool   \n",
      " 41  Symptom 4                                         9465 non-null   bool   \n",
      " 42  Symptom 5                                         9465 non-null   bool   \n",
      "dtypes: bool(5), float64(2), int64(9), object(27)\n",
      "memory usage: 2.8+ MB\n",
      "None\n"
     ]
    }
   ],
   "source": [
    "print(train.info())\n",
    "print(test.info())"
   ]
  },
  {
   "cell_type": "code",
   "execution_count": 5,
   "id": "6445b5ed",
   "metadata": {},
   "outputs": [],
   "source": [
    "def fill_missing_values(data):\n",
    "    numeric_columns = ['Patient Age', \"Mother's age\", \"Father's age\", 'Blood cell count (mcL)', \n",
    "                       'White Blood cell count (thousand per microliter)']\n",
    "    for column in numeric_columns:\n",
    "        if column in data.columns:\n",
    "            data[column].fillna(data[column].median(), inplace=True)\n",
    "    \n",
    "    categorical_columns = ['Gender', 'Genetic Disorder', 'Disorder Subclass']\n",
    "    for column in categorical_columns:\n",
    "        if column in data.columns:\n",
    "            data[column].fillna(data[column].mode()[0], inplace=True)"
   ]
  },
  {
   "cell_type": "code",
   "execution_count": 6,
   "id": "705d8a15",
   "metadata": {},
   "outputs": [],
   "source": [
    "fill_missing_values(train)\n",
    "fill_missing_values(test)"
   ]
  },
  {
   "cell_type": "code",
   "execution_count": 7,
   "id": "b57b1e77",
   "metadata": {},
   "outputs": [],
   "source": [
    "train.drop_duplicates(inplace=True)\n",
    "test.drop_duplicates(inplace=True)"
   ]
  },
  {
   "cell_type": "code",
   "execution_count": 8,
   "id": "0b76b7dd",
   "metadata": {},
   "outputs": [],
   "source": [
    "def handle_outliers(data, column):\n",
    "    if column in data.columns:\n",
    "        Q1 = data[column].quantile(0.25)\n",
    "        Q3 = data[column].quantile(0.75)\n",
    "        IQR = Q3 - Q1\n",
    "        lower_bound = Q1 - 1.5 * IQR\n",
    "        upper_bound = Q3 + 1.5 * IQR\n",
    "        data[column] = np.clip(data[column], lower_bound, upper_bound)\n",
    "\n",
    "handle_outliers(train, 'Patient Age')"
   ]
  },
  {
   "cell_type": "code",
   "execution_count": 9,
   "id": "d12033c4",
   "metadata": {},
   "outputs": [],
   "source": [
    "train.to_csv('data/train_cleaned.csv', index=False)\n",
    "test.to_csv('data/test_cleaned.csv', index=False)"
   ]
  },
  {
   "cell_type": "code",
   "execution_count": 10,
   "id": "87e75739",
   "metadata": {},
   "outputs": [
    {
     "name": "stdout",
     "output_type": "stream",
     "text": [
      "File saved successfully!\n"
     ]
    }
   ],
   "source": [
    "print(\"File saved successfully!\")"
   ]
  }
 ],
 "metadata": {
  "kernelspec": {
   "display_name": "Python 3 (ipykernel)",
   "language": "python",
   "name": "python3"
  },
  "language_info": {
   "codemirror_mode": {
    "name": "ipython",
    "version": 3
   },
   "file_extension": ".py",
   "mimetype": "text/x-python",
   "name": "python",
   "nbconvert_exporter": "python",
   "pygments_lexer": "ipython3",
   "version": "3.11.4"
  }
 },
 "nbformat": 4,
 "nbformat_minor": 5
}
