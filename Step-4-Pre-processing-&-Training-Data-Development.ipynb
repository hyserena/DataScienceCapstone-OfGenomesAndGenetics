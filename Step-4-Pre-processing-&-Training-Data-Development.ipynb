{
 "cells": [
  {
   "cell_type": "markdown",
   "id": "909ce018",
   "metadata": {},
   "source": [
    "# 4 Pre-processing & Training Data Development"
   ]
  },
  {
   "cell_type": "markdown",
   "id": "b68d5c12",
   "metadata": {},
   "source": [
    "#### Objective: Process the data into a format suitable for modeling, which includes feature selection, normalization or standardization, and splitting the dataset into training and testing sets."
   ]
  },
  {
   "cell_type": "markdown",
   "id": "4df2073f",
   "metadata": {},
   "source": [
    "## Import"
   ]
  },
  {
   "cell_type": "code",
   "execution_count": 1,
   "id": "075480bd",
   "metadata": {},
   "outputs": [],
   "source": [
    "import pandas as pd\n",
    "import numpy as np\n",
    "from sklearn.model_selection import train_test_split\n",
    "from sklearn.preprocessing import StandardScaler, OneHotEncoder\n",
    "from sklearn.compose import ColumnTransformer\n",
    "from sklearn.pipeline import Pipeline\n",
    "from sklearn.impute import SimpleImputer"
   ]
  },
  {
   "cell_type": "markdown",
   "id": "64338951",
   "metadata": {},
   "source": [
    "## Load The Data"
   ]
  },
  {
   "cell_type": "code",
   "execution_count": 2,
   "id": "84081502",
   "metadata": {},
   "outputs": [],
   "source": [
    "data = pd.read_csv('data/train_cleaned.csv')"
   ]
  },
  {
   "cell_type": "code",
   "execution_count": 3,
   "id": "06898312",
   "metadata": {},
   "outputs": [
    {
     "name": "stdout",
     "output_type": "stream",
     "text": [
      "Index(['Patient Id', 'Patient Age', 'Genes in mother's side',\n",
      "       'Inherited from father', 'Maternal gene', 'Paternal gene',\n",
      "       'Blood cell count (mcL)', 'Patient First Name', 'Family Name',\n",
      "       'Father's name', 'Mother's age', 'Father's age', 'Institute Name',\n",
      "       'Location of Institute', 'Status', 'Respiratory Rate (breaths/min)',\n",
      "       'Heart Rate (rates/min', 'Test 1', 'Test 2', 'Test 3', 'Test 4',\n",
      "       'Test 5', 'Parental consent', 'Follow-up', 'Gender', 'Birth asphyxia',\n",
      "       'Autopsy shows birth defect (if applicable)', 'Place of birth',\n",
      "       'Folic acid details (peri-conceptional)',\n",
      "       'H/O serious maternal illness', 'H/O radiation exposure (x-ray)',\n",
      "       'H/O substance abuse', 'Assisted conception IVF/ART',\n",
      "       'History of anomalies in previous pregnancies',\n",
      "       'No. of previous abortion', 'Birth defects',\n",
      "       'White Blood cell count (thousand per microliter)', 'Blood test result',\n",
      "       'Symptom 1', 'Symptom 2', 'Symptom 3', 'Symptom 4', 'Symptom 5',\n",
      "       'Genetic Disorder', 'Disorder Subclass'],\n",
      "      dtype='object')\n"
     ]
    }
   ],
   "source": [
    "print(data.columns)"
   ]
  },
  {
   "cell_type": "markdown",
   "id": "1132cfa6",
   "metadata": {},
   "source": [
    "## Preprocessing & Training Data Development"
   ]
  },
  {
   "cell_type": "code",
   "execution_count": 4,
   "id": "d6569037",
   "metadata": {},
   "outputs": [],
   "source": [
    "categorical_cols = [\"Genes in mother's side\", 'Inherited from father', 'Maternal gene', 'Paternal gene', \n",
    "                    'Gender', 'Birth asphyxia', 'Autopsy shows birth defect (if applicable)', \n",
    "                    'Blood test result']\n",
    "numeric_cols = ['Patient Age', \"Mother's age\", \"Father's age\", 'Blood cell count (mcL)', \n",
    "                'White Blood cell count (thousand per microliter)']"
   ]
  },
  {
   "cell_type": "code",
   "execution_count": 5,
   "id": "02f65888",
   "metadata": {},
   "outputs": [],
   "source": [
    "numeric_transformer = Pipeline(steps=[\n",
    "    ('imputer', SimpleImputer(strategy='median')),\n",
    "    ('scaler', StandardScaler())                  \n",
    "])"
   ]
  },
  {
   "cell_type": "code",
   "execution_count": 6,
   "id": "6e2481cf",
   "metadata": {},
   "outputs": [],
   "source": [
    "categorical_transformer = Pipeline(steps=[\n",
    "    ('imputer', SimpleImputer(strategy='constant', fill_value='missing')),\n",
    "    ('onehot', OneHotEncoder(handle_unknown='ignore'))\n",
    "])"
   ]
  },
  {
   "cell_type": "code",
   "execution_count": 7,
   "id": "34ac7028",
   "metadata": {},
   "outputs": [],
   "source": [
    "preprocessor = ColumnTransformer(\n",
    "    transformers=[\n",
    "        ('num', numeric_transformer, numeric_cols),\n",
    "        ('cat', categorical_transformer, categorical_cols)\n",
    "    ])"
   ]
  },
  {
   "cell_type": "code",
   "execution_count": 8,
   "id": "c209b0da",
   "metadata": {},
   "outputs": [],
   "source": [
    "X = data.drop(['Genetic Disorder', 'Disorder Subclass', 'Patient Id', 'Patient First Name', 'Family Name', \n",
    "               \"Father's name\", 'Institute Name', 'Location of Institute'], axis=1)\n",
    "y = data['Genetic Disorder']"
   ]
  },
  {
   "cell_type": "code",
   "execution_count": 9,
   "id": "a2c7b25c",
   "metadata": {},
   "outputs": [],
   "source": [
    "X_preprocessed = preprocessor.fit_transform(X)"
   ]
  },
  {
   "cell_type": "code",
   "execution_count": 10,
   "id": "7c80234a",
   "metadata": {},
   "outputs": [],
   "source": [
    "X_train, X_test, y_train, y_test = train_test_split(X_preprocessed, y, test_size=0.2, random_state=42)"
   ]
  },
  {
   "cell_type": "code",
   "execution_count": 11,
   "id": "b6c1108e",
   "metadata": {
    "scrolled": true
   },
   "outputs": [
    {
     "name": "stdout",
     "output_type": "stream",
     "text": [
      "Preprocessing and data splitting completed successfully.\n",
      "Training data shape: (17666, 33)\n",
      "Test data shape: (4417, 33)\n"
     ]
    }
   ],
   "source": [
    "print(\"Preprocessing and data splitting completed successfully.\")\n",
    "print(f\"Training data shape: {X_train.shape}\")\n",
    "print(f\"Test data shape: {X_test.shape}\")"
   ]
  },
  {
   "cell_type": "code",
   "execution_count": 12,
   "id": "8258ac9c",
   "metadata": {},
   "outputs": [],
   "source": [
    "np.save('data/X_train.npy', X_train)\n",
    "np.save('data/X_test.npy', X_test)\n",
    "np.save('data/y_train.npy', y_train)\n",
    "np.save('data/y_test.npy', y_test)"
   ]
  },
  {
   "cell_type": "code",
   "execution_count": 13,
   "id": "65f41a19",
   "metadata": {},
   "outputs": [
    {
     "name": "stdout",
     "output_type": "stream",
     "text": [
      "File saved successfully!\n"
     ]
    }
   ],
   "source": [
    "print(\"File saved successfully!\")"
   ]
  }
 ],
 "metadata": {
  "kernelspec": {
   "display_name": "Python 3 (ipykernel)",
   "language": "python",
   "name": "python3"
  },
  "language_info": {
   "codemirror_mode": {
    "name": "ipython",
    "version": 3
   },
   "file_extension": ".py",
   "mimetype": "text/x-python",
   "name": "python",
   "nbconvert_exporter": "python",
   "pygments_lexer": "ipython3",
   "version": "3.11.4"
  }
 },
 "nbformat": 4,
 "nbformat_minor": 5
}
