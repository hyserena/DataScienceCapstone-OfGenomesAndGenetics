{
 "cells": [
  {
   "cell_type": "markdown",
   "id": "3e969080",
   "metadata": {},
   "source": [
    "# 5 Modeling - \"Of Genomes And Genetics\""
   ]
  },
  {
   "cell_type": "markdown",
   "id": "04bb7534",
   "metadata": {},
   "source": [
    "#### Objective: Apply statistical and machine learning models to identify and validate the correlation between genetic markers and health outcomes."
   ]
  },
  {
   "cell_type": "markdown",
   "id": "c7f2edea",
   "metadata": {},
   "source": [
    "## Import"
   ]
  },
  {
   "cell_type": "code",
   "execution_count": 1,
   "id": "79f47268",
   "metadata": {},
   "outputs": [],
   "source": [
    "import numpy as np\n",
    "import pandas as pd\n",
    "from sklearn.ensemble import RandomForestClassifier\n",
    "from sklearn.metrics import classification_report, accuracy_score, confusion_matrix\n",
    "from sklearn.model_selection import cross_val_score, GridSearchCV\n",
    "from sklearn.preprocessing import LabelEncoder\n",
    "import xgboost as xgb\n",
    "import time"
   ]
  },
  {
   "cell_type": "markdown",
   "id": "42da7fa1",
   "metadata": {},
   "source": [
    "## Load The Data"
   ]
  },
  {
   "cell_type": "code",
   "execution_count": 2,
   "id": "53784714",
   "metadata": {},
   "outputs": [],
   "source": [
    "X_train = np.load('data/X_train.npy')\n",
    "X_test = np.load('data/X_test.npy')\n",
    "y_train = np.load('data/y_train.npy', allow_pickle=True)\n",
    "y_test = np.load('data/y_test.npy', allow_pickle=True)"
   ]
  },
  {
   "cell_type": "code",
   "execution_count": 3,
   "id": "cddac74e",
   "metadata": {},
   "outputs": [],
   "source": [
    "label_encoder = LabelEncoder()\n",
    "y_train_encoded = label_encoder.fit_transform(y_train)\n",
    "y_test_encoded = label_encoder.transform(y_test)"
   ]
  },
  {
   "cell_type": "code",
   "execution_count": 4,
   "id": "0310bf12",
   "metadata": {},
   "outputs": [
    {
     "name": "stdout",
     "output_type": "stream",
     "text": [
      "Shape of X_train: (17666, 33)\n",
      "Shape of X_test: (4417, 33)\n",
      "Shape of y_train: (17666,)\n",
      "Shape of y_test: (4417,)\n",
      "Data type of y_train: <class 'str'>\n"
     ]
    }
   ],
   "source": [
    "print(\"Shape of X_train:\", X_train.shape)\n",
    "print(\"Shape of X_test:\", X_test.shape)\n",
    "print(\"Shape of y_train:\", y_train.shape)\n",
    "print(\"Shape of y_test:\", y_test.shape)\n",
    "print(\"Data type of y_train:\", type(y_train[0]))"
   ]
  },
  {
   "cell_type": "markdown",
   "id": "d8fd7bbd",
   "metadata": {},
   "source": [
    "## Prepare Data for Modeling"
   ]
  },
  {
   "cell_type": "code",
   "execution_count": 5,
   "id": "8f5280e1",
   "metadata": {},
   "outputs": [
    {
     "name": "stdout",
     "output_type": "stream",
     "text": [
      "Random Forest Model Performance Metrics:\n",
      "                                              precision    recall  f1-score   support\n",
      "\n",
      " Mitochondrial genetic inheritance disorders       0.56      0.88      0.69      2485\n",
      "Multifactorial genetic inheritance disorders       0.38      0.01      0.01       433\n",
      "            Single-gene inheritance diseases       0.36      0.13      0.19      1499\n",
      "\n",
      "                                    accuracy                           0.54      4417\n",
      "                                   macro avg       0.43      0.34      0.30      4417\n",
      "                                weighted avg       0.48      0.54      0.45      4417\n",
      "\n",
      "Accuracy: 0.5386008603124293\n",
      "Confusion Matrix:\n",
      " [[2188    3  294]\n",
      " [ 386    3   44]\n",
      " [1309    2  188]]\n"
     ]
    }
   ],
   "source": [
    "rf_model = RandomForestClassifier(random_state=42)\n",
    "rf_model.fit(X_train, y_train)\n",
    "rf_y_pred = rf_model.predict(X_test)\n",
    "print(\"Random Forest Model Performance Metrics:\")\n",
    "print(classification_report(y_test, rf_y_pred))\n",
    "print(\"Accuracy:\", accuracy_score(y_test, rf_y_pred))\n",
    "print(\"Confusion Matrix:\\n\", confusion_matrix(y_test, rf_y_pred))"
   ]
  },
  {
   "cell_type": "code",
   "execution_count": 6,
   "id": "99b4c0de",
   "metadata": {},
   "outputs": [
    {
     "name": "stdout",
     "output_type": "stream",
     "text": [
      "XGBoost Model Performance Metrics:\n",
      "              precision    recall  f1-score   support\n",
      "\n",
      "           0       0.56      0.96      0.71      2485\n",
      "           1       0.00      0.00      0.00       433\n",
      "           2       0.36      0.04      0.07      1499\n",
      "\n",
      "    accuracy                           0.55      4417\n",
      "   macro avg       0.31      0.33      0.26      4417\n",
      "weighted avg       0.44      0.55      0.42      4417\n",
      "\n",
      "Accuracy: 0.554675118858954\n",
      "Confusion Matrix:\n",
      " [[2388    1   96]\n",
      " [ 421    0   12]\n",
      " [1437    0   62]]\n"
     ]
    }
   ],
   "source": [
    "xgb_model = xgb.XGBClassifier(objective='binary:logistic', n_estimators=300, learning_rate=0.05, max_depth=4, random_state=42)\n",
    "xgb_model.fit(X_train, y_train_encoded)\n",
    "xgb_y_pred = xgb_model.predict(X_test)\n",
    "print(\"XGBoost Model Performance Metrics:\")\n",
    "print(classification_report(y_test_encoded, xgb_y_pred))\n",
    "print(\"Accuracy:\", accuracy_score(y_test_encoded, xgb_y_pred))\n",
    "print(\"Confusion Matrix:\\n\", confusion_matrix(y_test_encoded, xgb_y_pred))"
   ]
  },
  {
   "cell_type": "code",
   "execution_count": 7,
   "id": "563c295b",
   "metadata": {},
   "outputs": [
    {
     "name": "stdout",
     "output_type": "stream",
     "text": [
      "RandomForest Cross-validated Accuracy: 0.53 ± 0.00\n"
     ]
    }
   ],
   "source": [
    "rf_scores = cross_val_score(rf_model, X_train, y_train, cv=5)\n",
    "print(f\"RandomForest Cross-validated Accuracy: {rf_scores.mean():.2f} ± {rf_scores.std():.2f}\")"
   ]
  },
  {
   "cell_type": "code",
   "execution_count": 9,
   "id": "0589023c",
   "metadata": {
    "scrolled": false
   },
   "outputs": [
    {
     "name": "stdout",
     "output_type": "stream",
     "text": [
      "XGBoost Cross-validated Accuracy: 0.55 ± 0.00\n"
     ]
    }
   ],
   "source": [
    "xgb_scores = cross_val_score(xgb_model, X_train, y_train_encoded, cv=5)\n",
    "print(f\"XGBoost Cross-validated Accuracy: {xgb_scores.mean():.2f} ± {xgb_scores.std():.2f}\")"
   ]
  },
  {
   "cell_type": "code",
   "execution_count": 11,
   "id": "aefb1701",
   "metadata": {
    "scrolled": false
   },
   "outputs": [
    {
     "name": "stdout",
     "output_type": "stream",
     "text": [
      "Fitting 5 folds for each of 27 candidates, totalling 135 fits\n",
      "XGBoost Grid search took 16.13 seconds.\n",
      "Best XGBoost parameters: {'learning_rate': 0.05, 'max_depth': 3, 'n_estimators': 100}\n",
      "Best XGBoost cross-validated accuracy: 0.5584172578666886\n"
     ]
    }
   ],
   "source": [
    "xgb_param_grid = {\n",
    "    'n_estimators': [100, 200, 300],\n",
    "    'max_depth': [3, 4, 5],\n",
    "    'learning_rate': [0.01, 0.05, 0.1]\n",
    "}\n",
    "xgb_grid_search = GridSearchCV(estimator=xgb_model, param_grid=xgb_param_grid, cv=5, n_jobs=-1, verbose=2, scoring='accuracy')\n",
    "start_time = time.time()\n",
    "xgb_grid_search.fit(X_train, y_train_encoded)  # Use encoded labels\n",
    "end_time = time.time()\n",
    "print(f\"XGBoost Grid search took {end_time - start_time:.2f} seconds.\")\n",
    "print(\"Best XGBoost parameters:\", xgb_grid_search.best_params_)\n",
    "print(\"Best XGBoost cross-validated accuracy:\", xgb_grid_search.best_score_)"
   ]
  }
 ],
 "metadata": {
  "kernelspec": {
   "display_name": "Python 3 (ipykernel)",
   "language": "python",
   "name": "python3"
  },
  "language_info": {
   "codemirror_mode": {
    "name": "ipython",
    "version": 3
   },
   "file_extension": ".py",
   "mimetype": "text/x-python",
   "name": "python",
   "nbconvert_exporter": "python",
   "pygments_lexer": "ipython3",
   "version": "3.11.4"
  }
 },
 "nbformat": 4,
 "nbformat_minor": 5
}
